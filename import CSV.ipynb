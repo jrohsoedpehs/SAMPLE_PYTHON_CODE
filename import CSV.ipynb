{
 "cells": [
  {
   "cell_type": "code",
   "execution_count": null,
   "metadata": {},
   "outputs": [],
   "source": [
    "# This code imports a excel csv file as a python dataset (dataframe) \n",
    "\n",
    "# load python library for datasets and statistics\n",
    "import pandas as pd\n",
    "\n",
    "#named dataset house_prices\n",
    "house_prices = pd.read_csv(\"MELBOURNE_HOUSE_PRICES_LESS.csv\")\n",
    "\n",
    "#print 1st 5 rows of dataset house_prices\n",
    "house_prices.head()"
   ]
  }
 ],
 "metadata": {
  "kernelspec": {
   "display_name": "Python 3",
   "language": "python",
   "name": "python3"
  },
  "language_info": {
   "codemirror_mode": {
    "name": "ipython",
    "version": 3
   },
   "file_extension": ".py",
   "mimetype": "text/x-python",
   "name": "python",
   "nbconvert_exporter": "python",
   "pygments_lexer": "ipython3",
   "version": "3.7.3"
  }
 },
 "nbformat": 4,
 "nbformat_minor": 2
}
